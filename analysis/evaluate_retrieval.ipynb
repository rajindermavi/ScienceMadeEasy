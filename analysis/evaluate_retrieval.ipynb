{
 "cells": [
  {
   "cell_type": "code",
   "execution_count": 1,
   "id": "a86d72f0",
   "metadata": {},
   "outputs": [],
   "source": [
    "import os\n",
    "import json\n",
    "\n",
    "import notebook_bootstrap \n",
    "import inspect\n",
    "from logs.logger import get_logger\n",
    "logger = get_logger()\n",
    "\n",
    "import config"
   ]
  },
  {
   "cell_type": "code",
   "execution_count": 2,
   "id": "f3c1fad1",
   "metadata": {},
   "outputs": [
    {
     "name": "stderr",
     "output_type": "stream",
     "text": [
      "/home/rajinder-mavi/code/SME/.venv/lib/python3.12/site-packages/tqdm/auto.py:21: TqdmWarning: IProgress not found. Please update jupyter and ipywidgets. See https://ipywidgets.readthedocs.io/en/stable/user_install.html\n",
      "  from .autonotebook import tqdm as notebook_tqdm\n"
     ]
    }
   ],
   "source": [
    "from run_query import query_retrieval"
   ]
  },
  {
   "cell_type": "code",
   "execution_count": 3,
   "id": "a5d132ff",
   "metadata": {},
   "outputs": [],
   "source": [
    "records = []\n",
    "with open('generated_queries.jsonl', 'r', encoding='utf-8') as f:\n",
    "    for line in f:\n",
    "        rec = json.loads(line.strip())\n",
    "        records.append(rec)"
   ]
  },
  {
   "cell_type": "code",
   "execution_count": null,
   "id": "4caca919",
   "metadata": {},
   "outputs": [],
   "source": [
    "matches = []\n",
    "for record in records:\n",
    "    id = record['chunk_id']\n",
    "    query = record['query_v2']\n",
    "    results = query_retrieval(query)\n",
    "    record_matches = [id == result['chunk_id'] for result in results]\n",
    "    matches.append(record_matches)"
   ]
  },
  {
   "cell_type": "code",
   "execution_count": 11,
   "id": "34172710",
   "metadata": {},
   "outputs": [],
   "source": [
    "def hit_rate(matches):\n",
    "    hits = 0.0\n",
    "    for record_match in matches:\n",
    "        hits += int(any(record_match))\n",
    "    return hits / len(matches)\n",
    "\n",
    "def reciprocal_rank(lst):\n",
    "    if True in lst:\n",
    "        return 1/(lst.index(True) + 1)\n",
    "    else:\n",
    "        return 0\n",
    "\n",
    "def mrr(matches):\n",
    "    score = sum([reciprocal_rank(rec_match) for rec_match in matches])\n",
    "    return score / len(matches)"
   ]
  },
  {
   "cell_type": "code",
   "execution_count": 17,
   "id": "efe3877e",
   "metadata": {},
   "outputs": [
    {
     "name": "stdout",
     "output_type": "stream",
     "text": [
      "Hit Rate: 1.0. Mean Reciprocal Rank: 0.5833\n"
     ]
    }
   ],
   "source": [
    "hit_rate_score = hit_rate(matches)\n",
    "mrr_score = mrr(matches)\n",
    "\n",
    "print(f'Hit Rate: {hit_rate_score:,.4}. Mean Reciprocal Rank: {mrr_score:,.4}')"
   ]
  },
  {
   "cell_type": "code",
   "execution_count": null,
   "id": "2de9330f",
   "metadata": {},
   "outputs": [],
   "source": []
  }
 ],
 "metadata": {
  "kernelspec": {
   "display_name": ".venv",
   "language": "python",
   "name": "python3"
  },
  "language_info": {
   "codemirror_mode": {
    "name": "ipython",
    "version": 3
   },
   "file_extension": ".py",
   "mimetype": "text/x-python",
   "name": "python",
   "nbconvert_exporter": "python",
   "pygments_lexer": "ipython3",
   "version": "3.12.3"
  }
 },
 "nbformat": 4,
 "nbformat_minor": 5
}
