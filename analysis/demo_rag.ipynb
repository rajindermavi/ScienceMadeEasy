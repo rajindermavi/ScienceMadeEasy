{
 "cells": [
  {
   "cell_type": "code",
   "execution_count": 1,
   "id": "a68267b6",
   "metadata": {},
   "outputs": [
    {
     "name": "stderr",
     "output_type": "stream",
     "text": [
      "/home/rajinder-mavi/code/SME/.venv/lib/python3.12/site-packages/tqdm/auto.py:21: TqdmWarning: IProgress not found. Please update jupyter and ipywidgets. See https://ipywidgets.readthedocs.io/en/stable/user_install.html\n",
      "  from .autonotebook import tqdm as notebook_tqdm\n"
     ]
    }
   ],
   "source": [
    "import notebook_bootstrap \n",
    "import config\n",
    "\n",
    "from run_query import query_context, llm"
   ]
  },
  {
   "cell_type": "code",
   "execution_count": 2,
   "id": "2b8710a8",
   "metadata": {},
   "outputs": [],
   "source": [
    "query = 'Define the lyapunov exponent for 2x2 matrix cocycles.'\n",
    "context_str = query_context(query)\n",
    "response = llm(query,context_str)"
   ]
  },
  {
   "cell_type": "code",
   "execution_count": 3,
   "id": "4bf600be",
   "metadata": {},
   "outputs": [
    {
     "data": {
      "text/plain": [
       "'The Lyapunov exponent for 2x2 matrix cocycles is defined as:\\n\\n\\\\[\\nL(\\\\alpha, A) = \\\\lim_{n \\\\rightarrow \\\\infty} \\\\frac{1}{n} \\\\int \\\\ln \\\\|A_n(\\\\theta)\\\\| \\\\, d\\\\theta\\n\\\\]\\n\\nwhere \\\\(A_n(\\\\theta) = A(\\\\theta + (n-1) \\\\alpha) \\\\cdots A(\\\\theta)\\\\) [1512.03124v1::L79-96::s0].\\n\\nThis exponential growth rate measures the average exponential divergence (or convergence) of nearby trajectories in the context of a dynamical system represented by the cocycle \\\\((\\\\alpha, A)\\\\) [1708.01762v4::L57-60::s0].\\n\\nFor cocycles, the Lyapunov exponent is invariant under conjugacies [0810.2965v1::L526-590::c7] and is well-defined due to the unique ergodicity properties of irrational rotations [0503363v1::L380-447::c5].'"
      ]
     },
     "execution_count": 3,
     "metadata": {},
     "output_type": "execute_result"
    }
   ],
   "source": [
    "response"
   ]
  },
  {
   "cell_type": "code",
   "execution_count": 4,
   "id": "91be9c5b",
   "metadata": {},
   "outputs": [
    {
     "name": "stdout",
     "output_type": "stream",
     "text": [
      "The Lyapunov exponent for 2x2 matrix cocycles is defined as:\n",
      "\n",
      "\\[\n",
      "L(\\alpha, A) = \\lim_{n \\rightarrow \\infty} \\frac{1}{n} \\int \\ln \\|A_n(\\theta)\\| \\, d\\theta\n",
      "\\]\n",
      "\n",
      "where \\(A_n(\\theta) = A(\\theta + (n-1) \\alpha) \\cdots A(\\theta)\\) [1512.03124v1::L79-96::s0].\n",
      "\n",
      "This exponential growth rate measures the average exponential divergence (or convergence) of nearby trajectories in the context of a dynamical system represented by the cocycle \\((\\alpha, A)\\) [1708.01762v4::L57-60::s0].\n",
      "\n",
      "For cocycles, the Lyapunov exponent is invariant under conjugacies [0810.2965v1::L526-590::c7] and is well-defined due to the unique ergodicity properties of irrational rotations [0503363v1::L380-447::c5].\n"
     ]
    }
   ],
   "source": [
    "print(response)"
   ]
  },
  {
   "cell_type": "markdown",
   "id": "b1a357ab",
   "metadata": {},
   "source": []
  },
  {
   "cell_type": "code",
   "execution_count": null,
   "id": "15c4eca5",
   "metadata": {},
   "outputs": [],
   "source": []
  }
 ],
 "metadata": {
  "kernelspec": {
   "display_name": ".venv",
   "language": "python",
   "name": "python3"
  },
  "language_info": {
   "codemirror_mode": {
    "name": "ipython",
    "version": 3
   },
   "file_extension": ".py",
   "mimetype": "text/x-python",
   "name": "python",
   "nbconvert_exporter": "python",
   "pygments_lexer": "ipython3",
   "version": "3.12.3"
  }
 },
 "nbformat": 4,
 "nbformat_minor": 5
}
